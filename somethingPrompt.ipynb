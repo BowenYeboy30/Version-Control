{
 "cells": [
  {
   "cell_type": "code",
   "execution_count": 4,
   "metadata": {},
   "outputs": [
    {
     "name": "stdin",
     "output_type": "stream",
     "text": [
      "Enter a name. Bowen Yeeeeeeeeee\n",
      "Enter anything banana\n"
     ]
    },
    {
     "name": "stdout",
     "output_type": "stream",
     "text": [
      "bananabananabanan\n"
     ]
    }
   ],
   "source": [
    "name = input(\"Enter a name.\")\n",
    "something = input(\"Enter anything\")\n",
    "\n",
    "def adjusted_key(text,key): \n",
    "    finalAnswer = \"\"\n",
    "    textLength = len(text)\n",
    "    keyLength = len(key)\n",
    "    count = int(textLength / keyLength)\n",
    "    for i in range(count):\n",
    "        finalAnswer += key\n",
    "    mod = textLength % keyLength\n",
    "    for i in range(mod):\n",
    "        finalAnswer += key[i]\n",
    "    print(finalAnswer)\n",
    "    \n",
    "adjusted_key(name,something)"
   ]
  },
  {
   "cell_type": "code",
   "execution_count": null,
   "metadata": {},
   "outputs": [],
   "source": []
  }
 ],
 "metadata": {
  "kernelspec": {
   "display_name": "Python 3",
   "language": "python",
   "name": "python3"
  },
  "language_info": {
   "codemirror_mode": {
    "name": "ipython",
    "version": 3
   },
   "file_extension": ".py",
   "mimetype": "text/x-python",
   "name": "python",
   "nbconvert_exporter": "python",
   "pygments_lexer": "ipython3",
   "version": "3.8.3"
  }
 },
 "nbformat": 4,
 "nbformat_minor": 4
}
