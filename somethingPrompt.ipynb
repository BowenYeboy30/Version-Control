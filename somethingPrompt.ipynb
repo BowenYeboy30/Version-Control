{
 "cells": [
  {
   "cell_type": "code",
   "execution_count": 4,
   "metadata": {},
   "outputs": [
    {
     "name": "stdin",
     "output_type": "stream",
     "text": [
      "Enter a name. Stephen\n",
      "Enter anything Banana\n"
     ]
    },
    {
     "name": "stdout",
     "output_type": "stream",
     "text": [
      "Greetings, Stephen. We are in grave danger. We have been trapped by a Banana. There is very little hope. You must grab 3 items in order to create the anti-Banana gun. Help there are Bananas everywhere. Are you up for the challenge?\n"
     ]
    },
    {
     "name": "stdin",
     "output_type": "stream",
     "text": [
      "Y or N? Y\n"
     ]
    }
   ],
   "source": [
    "name = input(\"Enter a name.\")\n",
    "something = input(\"Enter anything\")\n",
    "\n",
    "print(\"Greetings, \" + name +\". We are in grave danger. We have been trapped by a \" +something+ \". There is very little hope. You must grab 3 items in order to create the anti-\"+ something +\" gun. Help there are \" + something +\"s everywhere. Are you up for the challenge?\"\n",
    ")\n",
    "answer = input(\"Y or N?\")"
   ]
  },
  {
   "cell_type": "code",
   "execution_count": null,
   "metadata": {},
   "outputs": [],
   "source": []
  }
 ],
 "metadata": {
  "kernelspec": {
   "display_name": "Python 3",
   "language": "python",
   "name": "python3"
  },
  "language_info": {
   "codemirror_mode": {
    "name": "ipython",
    "version": 3
   },
   "file_extension": ".py",
   "mimetype": "text/x-python",
   "name": "python",
   "nbconvert_exporter": "python",
   "pygments_lexer": "ipython3",
   "version": "3.8.3"
  }
 },
 "nbformat": 4,
 "nbformat_minor": 4
}
